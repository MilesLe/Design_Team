{
 "cells": [
  {
   "cell_type": "code",
   "execution_count": 51,
   "id": "8c99e08a",
   "metadata": {},
   "outputs": [],
   "source": [
    "import pandas as pd\n",
    "import numpy as np\n",
    "from datetime import datetime\n",
    "import matplotlib.pyplot as plt"
   ]
  },
  {
   "cell_type": "code",
   "execution_count": 19,
   "id": "c3c0a9a7",
   "metadata": {},
   "outputs": [],
   "source": [
    "data_files = {\n",
    "    \"data/1.2_2_trial7_09102022.csv\": \"breakaway\",\n",
    "    \"data/1.2_2_trial6_09102022.csv\": \"breakaway\",\n",
    "    \"data/1.2_2_trial5_09102022.csv\": \"breakaway\"\n",
    "}"
   ]
  },
  {
   "cell_type": "markdown",
   "id": "b4d15b26",
   "metadata": {},
   "source": [
    "Extract Data\n",
    "- Add new data files here to be processed in the pipeline. \n",
    "- The key is the file name and the value is the meta data + data in a dataframe."
   ]
  },
  {
   "cell_type": "code",
   "execution_count": 41,
   "id": "44be61f2",
   "metadata": {},
   "outputs": [],
   "source": [
    "# Data extraction functions\n",
    "def extract_from_files(files_list, category):\n",
    "    '''\n",
    "    key: filename\n",
    "    value: [metadata = [sensor or what is being sensed, date, height, width], dataframe]\n",
    "    '''\n",
    "    data = {}\n",
    "    for filename in files_list:\n",
    "        dataframe = pd.read_csv(filename)\n",
    "        meta = {}\n",
    "        if category == \"breakaway\":\n",
    "            parsed_filename = filename.split('_')\n",
    "            meta[\"date\"] = datetime.strptime(parsed_filename[3][:8], \"%d%m%Y\")\n",
    "            meta[\"trial\"] = parsed_filename[2]\n",
    "            meta[\"height\"] = parsed_filename[0]\n",
    "            meta[\"width\"] = parsed_filename[1]\n",
    "        \n",
    "        data[filename] = {\"category\":category, \"meta\":meta, \"dataframe\":dataframe}\n",
    "    \n",
    "    return data \n",
    "        "
   ]
  },
  {
   "cell_type": "code",
   "execution_count": 42,
   "id": "d2c97d02",
   "metadata": {},
   "outputs": [],
   "source": [
    "# Apply data extraction functions\n",
    "breakaway_data = extract_from_files(data_files.keys(), \"breakaway\")"
   ]
  },
  {
   "cell_type": "markdown",
   "id": "7573f189",
   "metadata": {},
   "source": [
    "Data Cleaning"
   ]
  },
  {
   "cell_type": "code",
   "execution_count": null,
   "id": "b1eef41b",
   "metadata": {
    "scrolled": true
   },
   "outputs": [],
   "source": [
    "# Cleaning and data engineering functions\n"
   ]
  },
  {
   "cell_type": "code",
   "execution_count": null,
   "id": "3c226ce7",
   "metadata": {},
   "outputs": [],
   "source": [
    "# Apply each cleaning function to each dataframe.\n"
   ]
  },
  {
   "cell_type": "markdown",
   "id": "172da7f3",
   "metadata": {},
   "source": [
    "Data Analysis"
   ]
  },
  {
   "cell_type": "code",
   "execution_count": null,
   "id": "72446ae8",
   "metadata": {},
   "outputs": [],
   "source": [
    "# Analysis functions\n"
   ]
  },
  {
   "cell_type": "code",
   "execution_count": 56,
   "id": "74d4fb1f",
   "metadata": {},
   "outputs": [
    {
     "data": {
      "image/png": "[encoded data removed]",
      "text/plain": [
       "<Figure size 432x288 with 1 Axes>"
      ]
     },
     "metadata": {
      "needs_background": "light"
     },
     "output_type": "display_data"
    }
   ],
   "source": [
    "# Apply analysis functions\n",
    "\n",
    "### turn below code into function for graphing:\n",
    "df = breakaway_data[\"1.2_2_trial7_09102022.csv\"][\"dataframe\"]\n",
    "x = df[\"Data Set 1:Time(s)\"].values\n",
    "y = [df[\"Data Set 1:Force(N)\"].values,\n",
    "     df[\"Data Set 2:Force(N)\"].values]\n",
    "for y_ in y:\n",
    "    plt.scatter(x, y_)\n"
   ]
  },
  {
   "cell_type": "code",
   "execution_count": null,
   "id": "63da26ac",
   "metadata": {},
   "outputs": [],
   "source": []
  }
 ],
 "metadata": {
  "kernelspec": {
   "display_name": "Python 3",
   "language": "python",
   "name": "python3"
  },
  "language_info": {
   "codemirror_mode": {
    "name": "ipython",
    "version": 3
   },
   "file_extension": ".py",
   "mimetype": "text/x-python",
   "name": "python",
   "nbconvert_exporter": "python",
   "pygments_lexer": "ipython3",
   "version": "3.8.5"
  }
 },
 "nbformat": 4,
 "nbformat_minor": 5
}
